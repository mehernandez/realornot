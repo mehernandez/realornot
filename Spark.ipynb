{
 "cells": [
  {
   "cell_type": "markdown",
   "metadata": {},
   "source": [
    "# Kaggle submission for challenge: Real or not? NLP with disaster Tweets"
   ]
  },
  {
   "cell_type": "markdown",
   "metadata": {},
   "source": [
    "### First we need to initialize spark"
   ]
  },
  {
   "cell_type": "code",
   "execution_count": 35,
   "metadata": {},
   "outputs": [],
   "source": [
    "import findspark\n",
    "findspark.init()\n",
    "import pyspark\n"
   ]
  },
  {
   "cell_type": "code",
   "execution_count": 36,
   "metadata": {},
   "outputs": [
    {
     "name": "stdout",
     "output_type": "stream",
     "text": [
      "Spark NLP version\n",
      "Apache Spark version\n"
     ]
    },
    {
     "data": {
      "text/plain": [
       "'2.4.5'"
      ]
     },
     "execution_count": 36,
     "metadata": {},
     "output_type": "execute_result"
    }
   ],
   "source": [
    "import sparknlp \n",
    "\n",
    "spark = sparknlp.start()\n",
    "\n",
    "print(\"Spark NLP version\")\n",
    "sparknlp.version()\n",
    "print(\"Apache Spark version\")\n",
    "spark.version"
   ]
  },
  {
   "cell_type": "markdown",
   "metadata": {},
   "source": [
    "### Now we import the train dataset and take a look, preventing null values to appear"
   ]
  },
  {
   "cell_type": "code",
   "execution_count": 37,
   "metadata": {},
   "outputs": [
    {
     "name": "stdout",
     "output_type": "stream",
     "text": [
      "+---+-------+--------+--------------------+------+\n",
      "| id|keyword|location|                text|target|\n",
      "+---+-------+--------+--------------------+------+\n",
      "|  1|       |        |Our Deeds are the...|     1|\n",
      "|  4|       |        |Forest fire near ...|     1|\n",
      "|  5|       |        |All residents ask...|     1|\n",
      "|  6|       |        |13,000 people rec...|     1|\n",
      "|  7|       |        |Just got sent thi...|     1|\n",
      "|  8|       |        |#RockyFire Update...|     1|\n",
      "| 10|       |        |#flood #disaster ...|     1|\n",
      "| 13|       |        |I'm on top of the...|     1|\n",
      "| 14|       |        |There's an emerge...|     1|\n",
      "| 15|       |        |I'm afraid that t...|     1|\n",
      "| 16|       |        |Three people died...|     1|\n",
      "| 17|       |        |Haha South Tampa ...|     1|\n",
      "| 18|       |        |#raining #floodin...|     1|\n",
      "| 19|       |        |#Flood in Bago My...|     1|\n",
      "| 20|       |        |Damage to school ...|     1|\n",
      "| 23|       |        |      What's up man?|     0|\n",
      "| 24|       |        |       I love fruits|     0|\n",
      "| 25|       |        |    Summer is lovely|     0|\n",
      "| 26|       |        |   My car is so fast|     0|\n",
      "| 28|       |        |What a goooooooaa...|     0|\n",
      "+---+-------+--------+--------------------+------+\n",
      "only showing top 20 rows\n",
      "\n"
     ]
    }
   ],
   "source": [
    "from pyspark.sql.types import *\n",
    "\n",
    "schema = StructType([\n",
    "    StructField(\"id\", StringType(), False),\n",
    "    StructField(\"keyword\", StringType(), False),\n",
    "    StructField(\"location\", StringType(), False),\n",
    "    StructField(\"text\", StringType(), False),\n",
    "    StructField(\"target\", IntegerType(), False)\n",
    "])\n",
    "\n",
    "df = spark.read.option(\"multiline\",True).csv(\"train.csv\", header=True, schema=schema)\n",
    "df = df.filter(df.text.isNotNull())\n",
    "df = df.filter(df.target.isNotNull())\n",
    "df = df.na.fill(\"\")\n",
    "df.show()"
   ]
  },
  {
   "cell_type": "code",
   "execution_count": 38,
   "metadata": {},
   "outputs": [
    {
     "data": {
      "text/plain": [
       "7613"
      ]
     },
     "execution_count": 38,
     "metadata": {},
     "output_type": "execute_result"
    }
   ],
   "source": [
    "df.count()"
   ]
  },
  {
   "cell_type": "markdown",
   "metadata": {},
   "source": [
    "### Now we create a pretrained pipeline for text processing, adding lemmatizing, normalization and IF-IDF steps"
   ]
  },
  {
   "cell_type": "code",
   "execution_count": 39,
   "metadata": {},
   "outputs": [
    {
     "name": "stdout",
     "output_type": "stream",
     "text": [
      "explain_document_ml download started this may take some time.\n",
      "Approx size to download 9.4 MB\n",
      "[OK!]\n"
     ]
    }
   ],
   "source": [
    "from pyspark import SparkContext\n",
    "sc =SparkContext.getOrCreate()\n",
    "\n",
    "locale = sc._jvm.java.util.Locale\n",
    "locale.setDefault(locale.forLanguageTag(\"en-US\"))\n",
    "\n",
    "from sparknlp.annotator import Stemmer, Lemmatizer, LemmatizerModel, NorvigSweetingModel, SymmetricDeleteModel, Normalizer\n",
    "from sparknlp import DocumentAssembler, Finisher\n",
    "from pyspark.ml.feature import StopWordsRemover\n",
    "from sparknlp.pretrained import PretrainedPipeline\n",
    "from pyspark.ml import Pipeline\n",
    "from pyspark.ml.feature import HashingTF, IDF\n",
    "from pyspark.ml.feature import CountVectorizer, NGram\n",
    "\n",
    "\n",
    "sparknlp_pipeline = PretrainedPipeline(\n",
    "    'explain_document_ml', lang='en').model\n",
    "\n",
    "normalizer = Normalizer()\\\n",
    "    .setInputCols(['lemmas'])\\\n",
    "    .setOutputCol('normalized')\\\n",
    "    .setLowercase(True)\n",
    "\n",
    "finisher = Finisher()\\\n",
    "    .setInputCols(['normalized'])\\\n",
    "    .setOutputCols(['normalized'])\\\n",
    "    .setOutputAsArray(True)\n",
    "\n",
    "\n",
    "sw_remover = StopWordsRemover() \\\n",
    "    .setInputCol(\"normalized\") \\\n",
    "    .setOutputCol(\"filtered\")\n",
    "\n",
    "count_vectorizer = CountVectorizer(inputCol='normalized', \n",
    "    outputCol='tf')\n",
    "\n",
    "idfIgnore = IDF(minDocFreq=10) \\\n",
    "    .setInputCol(\"tf\") \\\n",
    "    .setOutputCol(\"idf\")\n",
    "\n",
    "pipeline = Pipeline().setStages([\n",
    "    sparknlp_pipeline, normalizer, finisher, sw_remover, count_vectorizer, idfIgnore])"
   ]
  },
  {
   "cell_type": "markdown",
   "metadata": {},
   "source": [
    "### We create a second pipeline that includes the prediction algorithm, in this case a random forest classifier, and then train the model"
   ]
  },
  {
   "cell_type": "code",
   "execution_count": 40,
   "metadata": {},
   "outputs": [],
   "source": [
    "from pyspark.ml.feature import IndexToString, StringIndexer\n",
    "from pyspark.ml.classification import *\n",
    "from pyspark.ml.tuning import *\n",
    "from pyspark.ml.evaluation import *\n",
    "from pyspark.ml.tuning import CrossValidator, ParamGridBuilder\n",
    "\n",
    "#label_indexer = StringIndexer(inputCol='sentiment', outputCol='label').fit(df)\n",
    "\n",
    "#predictor = NaiveBayes(featuresCol='idf', labelCol=\"target\")\n",
    "#predictor = SVM(featuresCol='idf', labelCol=\"target\")\n",
    "#predictor = LogisticRegression(maxIter=10, regParam=0.3, elasticNetParam=0.8, featuresCol='idf', labelCol=\"target\")\n",
    "#predictor = DecisionTreeClassifier(labelCol=\"target\", featuresCol=\"idf\")\n",
    "predictor = RandomForestClassifier(labelCol=\"target\", featuresCol=\"idf\")\n",
    "#predictor = GBTClassifier(labelCol=\"label\", featuresCol=\"idf\", maxIter=10) # binary\n",
    "#predictor = MultilayerPerceptronClassifier(maxIter=100, layers=[4,5,4,3], blockSize=128, seed=1234, featuresCol='idf')\n",
    "#predictor = LinearSVC(maxIter=10, regParam=0.1, featuresCol='idf')\n",
    "\n",
    "\n",
    "#prediction_deindexer = IndexToString(inputCol='prediction', outputCol='pred_newsgroup', \n",
    "#                                     labels=label_indexer.labels)\n",
    "\n",
    "pipeline2 = Pipeline(stages=[\n",
    "    pipeline, predictor\n",
    "])\n",
    "\n",
    "\n",
    "#paramGrid = ParamGridBuilder().build()\n",
    "  #.addGrid(count_vectorizer.minDF, [10]) \\\n",
    "  #.addGrid(idfIgnore.minDocFreq, [10]).build()\n",
    "  #.addGrid(predictor.numTrees, [10]) \\\n",
    "  \n",
    "\n",
    "#crossval = CrossValidator(estimator=pipeline2,\n",
    "#                          estimatorParamMaps=paramGrid,\n",
    "#                          evaluator=BinaryClassificationEvaluator(metricName='areaUnderROC', labelCol='target'),\n",
    "#                          numFolds=2)  \n",
    "\n",
    "#model2 = crossval.fit(df)\n",
    "model2 = pipeline2.fit(df)"
   ]
  },
  {
   "cell_type": "code",
   "execution_count": 41,
   "metadata": {},
   "outputs": [
    {
     "name": "stdout",
     "output_type": "stream",
     "text": [
      "cacheNodeIds: If false, the algorithm will pass trees to executors to match instances with nodes. If true, the algorithm will cache node IDs for each instance. Caching can speed up training of deeper trees. Users can set how often should the cache be checkpointed or disable it by setting checkpointInterval. (default: False)\n",
      "checkpointInterval: set checkpoint interval (>= 1) or disable checkpoint (-1). E.g. 10 means that the cache will get checkpointed every 10 iterations. Note: this setting will be ignored if the checkpoint directory is not set in the SparkContext. (default: 10)\n",
      "featureSubsetStrategy: The number of features to consider for splits at each tree node. Supported options: 'auto' (choose automatically for task: If numTrees == 1, set to 'all'. If numTrees > 1 (forest), set to 'sqrt' for classification and to 'onethird' for regression), 'all' (use all features), 'onethird' (use 1/3 of the features), 'sqrt' (use sqrt(number of features)), 'log2' (use log2(number of features)), 'n' (when n is in the range (0, 1.0], use n * number of features. When n is in the range (1, number of features), use n features). default = 'auto' (default: auto)\n",
      "featuresCol: features column name. (default: features, current: idf)\n",
      "impurity: Criterion used for information gain calculation (case-insensitive). Supported options: entropy, gini (default: gini)\n",
      "labelCol: label column name. (default: label, current: target)\n",
      "maxBins: Max number of bins for discretizing continuous features.  Must be >=2 and >= number of categories for any categorical feature. (default: 32)\n",
      "maxDepth: Maximum depth of the tree. (>= 0) E.g., depth 0 means 1 leaf node; depth 1 means 1 internal node + 2 leaf nodes. (default: 5)\n",
      "maxMemoryInMB: Maximum memory in MB allocated to histogram aggregation. If too small, then 1 node will be split per iteration, and its aggregates may exceed this size. (default: 256)\n",
      "minInfoGain: Minimum information gain for a split to be considered at a tree node. (default: 0.0)\n",
      "minInstancesPerNode: Minimum number of instances each child must have after split. If a split causes the left or right child to have fewer than minInstancesPerNode, the split will be discarded as invalid. Should be >= 1. (default: 1)\n",
      "numTrees: Number of trees to train (>= 1). (default: 20)\n",
      "predictionCol: prediction column name. (default: prediction)\n",
      "probabilityCol: Column name for predicted class conditional probabilities. Note: Not all models output well-calibrated probability estimates! These probabilities should be treated as confidences, not precise probabilities. (default: probability)\n",
      "rawPredictionCol: raw prediction (a.k.a. confidence) column name. (default: rawPrediction)\n",
      "seed: random seed. (default: -9068831406894790024)\n",
      "subsamplingRate: Fraction of the training data used for learning each decision tree, in range (0, 1]. (default: 1.0)\n"
     ]
    }
   ],
   "source": [
    "print(predictor.explainParams())"
   ]
  },
  {
   "cell_type": "markdown",
   "metadata": {},
   "source": [
    "### We create a dataframe for the test data"
   ]
  },
  {
   "cell_type": "code",
   "execution_count": 43,
   "metadata": {},
   "outputs": [
    {
     "name": "stdout",
     "output_type": "stream",
     "text": [
      "+---+-------+--------------------+--------------------+\n",
      "| id|keyword|            location|                text|\n",
      "+---+-------+--------------------+--------------------+\n",
      "|  0|   null|                null|Just happened a t...|\n",
      "|  2|   null|                null|Heard about #eart...|\n",
      "|  3|   null|                null|there is a forest...|\n",
      "|  9|   null|                null|Apocalypse lighti...|\n",
      "| 11|   null|                null|Typhoon Soudelor ...|\n",
      "| 12|   null|                null|We're shaking...I...|\n",
      "| 21|   null|                null|They'd probably s...|\n",
      "| 22|   null|                null|   Hey! How are you?|\n",
      "| 27|   null|                null|    What a nice hat?|\n",
      "| 29|   null|                null|           Fuck off!|\n",
      "| 30|   null|                null|No I don't like c...|\n",
      "| 35|   null|                null|NOOOOOOOOO! Don't...|\n",
      "| 42|   null|                null|No don't tell me ...|\n",
      "| 43|   null|                null|           What if?!|\n",
      "| 45|   null|                null|            Awesome!|\n",
      "| 46| ablaze|              London|Birmingham Wholes...|\n",
      "| 47| ablaze|Niall's place | S...|@sunkxssedharry w...|\n",
      "| 51| ablaze|             NIGERIA|#PreviouslyOnDoyi...|\n",
      "| 58| ablaze|      Live On Webcam|Check these out: ...|\n",
      "| 60| ablaze|Los Angeles, Cali...|PSA: IÛªm splitt...|\n",
      "+---+-------+--------------------+--------------------+\n",
      "only showing top 20 rows\n",
      "\n"
     ]
    }
   ],
   "source": [
    "from pyspark.sql.types import *\n",
    "\n",
    "schema = StructType([\n",
    "    StructField(\"id\", StringType(), False),\n",
    "    StructField(\"keyword\", StringType(), False),\n",
    "    StructField(\"location\", StringType(), False),\n",
    "    StructField(\"text\", StringType(), False)\n",
    "])\n",
    "\n",
    "df_t = spark.read.option(\"multiline\",True).csv(\"test.csv\", header=True, schema=schema)\n",
    "df_t.show()"
   ]
  },
  {
   "cell_type": "markdown",
   "metadata": {},
   "source": [
    "### Now we generate the predictions using the model on the training dataset to check performance"
   ]
  },
  {
   "cell_type": "code",
   "execution_count": 44,
   "metadata": {},
   "outputs": [],
   "source": [
    "train_predicted = model2.transform(df)\n",
    "#test_predicted = model2.transform(df_t)"
   ]
  },
  {
   "cell_type": "markdown",
   "metadata": {},
   "source": [
    "### To check performance we create a binary classification evaluator and evaluate on the training dataset"
   ]
  },
  {
   "cell_type": "code",
   "execution_count": 45,
   "metadata": {},
   "outputs": [],
   "source": [
    "evaluator = BinaryClassificationEvaluator(metricName='areaUnderROC', labelCol='target')"
   ]
  },
  {
   "cell_type": "code",
   "execution_count": 46,
   "metadata": {},
   "outputs": [
    {
     "name": "stdout",
     "output_type": "stream",
     "text": [
      "areaUnderROC 0.7546152550623892\n"
     ]
    }
   ],
   "source": [
    "print('areaUnderROC', evaluator.evaluate(train_predicted))"
   ]
  },
  {
   "cell_type": "markdown",
   "metadata": {},
   "source": [
    "### The performance metric could be better with hyperparameter tuning"
   ]
  },
  {
   "cell_type": "markdown",
   "metadata": {},
   "source": [
    "### Now we make the predictions on the test dataset and save the submission file"
   ]
  },
  {
   "cell_type": "code",
   "execution_count": 47,
   "metadata": {},
   "outputs": [],
   "source": [
    "df_t = df_t.na.fill(\"\")\n",
    "df_predicted = model2.transform(df_t).toPandas()"
   ]
  },
  {
   "cell_type": "code",
   "execution_count": 48,
   "metadata": {},
   "outputs": [
    {
     "name": "stderr",
     "output_type": "stream",
     "text": [
      "/Users/mariohernandez/miniconda3/envs/data/lib/python3.7/site-packages/ipykernel_launcher.py:3: SettingWithCopyWarning: \n",
      "A value is trying to be set on a copy of a slice from a DataFrame.\n",
      "Try using .loc[row_indexer,col_indexer] = value instead\n",
      "\n",
      "See the caveats in the documentation: http://pandas.pydata.org/pandas-docs/stable/user_guide/indexing.html#returning-a-view-versus-a-copy\n",
      "  This is separate from the ipykernel package so we can avoid doing imports until\n"
     ]
    }
   ],
   "source": [
    "df_final = df_predicted[['id', 'prediction']]\n",
    "df_final.columns = ['id', 'target']\n",
    "df_final['target'] = df_final['target'].astype(int)\n",
    "\n",
    "df_final.to_csv('submission.csv', index=False)"
   ]
  }
 ],
 "metadata": {
  "kernelspec": {
   "display_name": "Python 3",
   "language": "python",
   "name": "python3"
  },
  "language_info": {
   "codemirror_mode": {
    "name": "ipython",
    "version": 3
   },
   "file_extension": ".py",
   "mimetype": "text/x-python",
   "name": "python",
   "nbconvert_exporter": "python",
   "pygments_lexer": "ipython3",
   "version": "3.7.5"
  }
 },
 "nbformat": 4,
 "nbformat_minor": 4
}
